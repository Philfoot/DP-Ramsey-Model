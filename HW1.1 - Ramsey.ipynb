{
 "cells": [
  {
   "cell_type": "code",
   "execution_count": 1,
   "metadata": {},
   "outputs": [],
   "source": [
    "## Import data and packages ##\n",
    "import pandas as pd\n",
    "import numpy as np\n",
    "import matplotlib.pyplot as plt"
   ]
  },
  {
   "cell_type": "code",
   "execution_count": 48,
   "metadata": {},
   "outputs": [
    {
     "name": "stdout",
     "output_type": "stream",
     "text": [
      "1\n",
      "2\n",
      "3\n",
      "4\n",
      "5\n",
      "6\n",
      "7\n",
      "8\n",
      "9\n",
      "10\n",
      "11\n",
      "12\n",
      "13\n",
      "14\n",
      "15\n",
      "16\n",
      "17\n",
      "18\n",
      "19\n",
      "20\n",
      "21\n",
      "22\n",
      "23\n",
      "24\n",
      "25\n",
      "26\n",
      "27\n",
      "28\n",
      "29\n",
      "30\n",
      "31\n",
      "[6.12100796 7.08882662 7.33914839 7.49071477 7.60025561 7.68625592\n",
      " 7.75722683 7.81771862 7.87053354 7.91740861 7.95962101 7.99800767\n",
      " 8.03323033 8.0658139  8.09612602 8.12447779 8.15111512 8.17623911\n",
      " 8.20002872 8.22261175 8.2441268  8.26467842 8.28434201 8.30320143\n",
      " 8.32131119 8.33874038 8.35554642 8.37178044 8.38746685 8.40264195\n",
      " 8.41735826 8.43163759 8.44549921 8.45897187 8.47208911 8.48485193\n",
      " 8.49729272 8.50943237 8.52127292 8.53284355 8.54414816 8.5551941\n",
      " 8.56601697 8.57659911 8.58697196 8.59713669 8.60709586 8.61687357\n",
      " 8.62645415 8.63587597 8.64511682 8.65420491 8.66312658 8.67190549\n",
      " 8.68053889 8.6890314  8.69738757 8.70561401 8.71372059 8.72169917\n",
      " 8.72956038 8.7373075  8.74495134 8.7524818  8.75990926 8.76723648\n",
      " 8.77447045 8.78160661 8.78864869 8.79560491 8.80246801 8.80925446\n",
      " 8.81595151 8.82257749 8.82911459 8.83558718 8.84197678 8.84830333\n",
      " 8.85455298 8.86073223 8.86684891 8.87289814 8.8788883  8.88480714\n",
      " 8.89067413 8.89647558 8.90222465 8.90791407 8.91354514 8.91912754\n",
      " 8.92464882 8.93012538 8.93554676 8.94092149 8.94624716 8.95151772\n",
      " 8.95674985 8.96193074 8.96707147 8.97216627]\n"
     ]
    }
   ],
   "source": [
    "## Value Function Iteration with \n",
    "## Traditional Ramsey Growth Model application\n",
    "\n",
    "# theta represents coefficients beta, A, alpha, delta\n",
    "theta = np.array([0.6,20,0.3,0.5])\n",
    "\n",
    "def utility(consumption):\n",
    "    return np.log(consumption)\n",
    "\n",
    "def production(capital,params):\n",
    "    return params[1]*capital**params[2]\n",
    "\n",
    "def value_function(k_t,k_t1,v_k_t1,params):\n",
    "    cons = production(k_t,params)-k_t1+(1-params[3])*k_t\n",
    "    if cons <= 0:\n",
    "        val = -1000\n",
    "    else:\n",
    "        val = utility(cons)+params[0]*v_k_t1\n",
    "    return val\n",
    "\n",
    "def iteration(epsilon,params,maxiter,n_steps):\n",
    "    values_matrix = np.zeros((n_steps,n_steps))    \n",
    "    values_temp = np.zeros(n_steps)\n",
    "    values = np.ones(n_steps)\n",
    "    cap = np.linspace(0.01,12,n_steps)\n",
    "\n",
    "    diff = 1\n",
    "    i = 0\n",
    "    while diff > epsilon:\n",
    "\n",
    "        for j in range(n_steps):\n",
    "            for k in range(n_steps):\n",
    "                values_matrix[j,k] = value_function(cap[j],cap[k],values[k],params)\n",
    "        values_temp = np.amax(values_matrix, axis=1)\n",
    "\n",
    "        diff = np.linalg.norm(values - values_temp)\n",
    "        values = values_temp\n",
    "        i+=1\n",
    "        print(i)\n",
    "        if i == 500:\n",
    "            break\n",
    "            print(\"Max Iterations Reached\")\n",
    "        \n",
    "    return values, i, diff\n",
    "    \n",
    "results = iteration(.00001,theta,500,100)\n",
    "print(results[0])\n"
   ]
  },
  {
   "cell_type": "code",
   "execution_count": 49,
   "metadata": {},
   "outputs": [
    {
     "data": {
      "text/plain": [
       "[<matplotlib.lines.Line2D at 0x2c827e9d4a8>]"
      ]
     },
     "execution_count": 49,
     "metadata": {},
     "output_type": "execute_result"
    },
    {
     "data": {
      "image/png": "[encoded data removed]",
      "text/plain": [
       "<Figure size 432x288 with 1 Axes>"
      ]
     },
     "metadata": {},
     "output_type": "display_data"
    }
   ],
   "source": [
    "plt.plot(np.linspace(0,12,100),results[0])"
   ]
  },
  {
   "cell_type": "code",
   "execution_count": 50,
   "metadata": {},
   "outputs": [
    {
     "name": "stdout",
     "output_type": "stream",
     "text": [
      "1\n",
      "2\n",
      "3\n",
      "4\n",
      "5\n",
      "6\n",
      "7\n",
      "8\n",
      "9\n",
      "10\n",
      "11\n",
      "12\n",
      "13\n",
      "14\n",
      "15\n",
      "16\n",
      "17\n",
      "18\n",
      "19\n",
      "20\n",
      "21\n",
      "22\n",
      "23\n",
      "24\n",
      "25\n",
      "26\n",
      "27\n",
      "28\n",
      "29\n",
      "[-3.44787887 -2.2137696  -1.96239121 -1.81767605 -1.71624525 -1.6382992\n",
      " -1.5750822  -1.52195663 -1.47617186 -1.43002774 -1.38872544 -1.35167884\n",
      " -1.31810992 -1.28743449 -1.25920301 -1.23306233 -1.20873007 -1.185977\n",
      " -1.16461453 -1.14448567 -1.12545841 -1.10742068 -1.09027653 -1.07394324\n",
      " -1.05834896 -1.04343093 -1.02913398 -1.01540939 -1.0022139  -0.98950895\n",
      " -0.97726001 -0.96543605 -0.95400907 -0.94295373 -0.93224704 -0.92186805\n",
      " -0.91179763 -0.90201826 -0.89251387 -0.88326968 -0.87427205 -0.86550838\n",
      " -0.85696702 -0.84863714 -0.84050869 -0.83257231 -0.82481928 -0.81724145\n",
      " -0.80983121 -0.80258141 -0.7949355  -0.78736314 -0.77994961 -0.77268853\n",
      " -0.7655739  -0.75860007 -0.7517617  -0.74505374 -0.73847144 -0.73201026\n",
      " -0.72566595 -0.71943443 -0.71331185 -0.70729456 -0.70137908 -0.69556209\n",
      " -0.68984043 -0.68421111 -0.67867125 -0.67321812 -0.66784909 -0.66256168\n",
      " -0.65735349 -0.65222222 -0.6471657  -0.64218181 -0.63726855 -0.63242398\n",
      " -0.62764624 -0.62293357 -0.61828424 -0.61369662 -0.60916911 -0.60470019\n",
      " -0.60028841 -0.59593234 -0.59163063 -0.58738195 -0.58318506 -0.57903872\n",
      " -0.57494175 -0.57089302 -0.56689143 -0.56293591 -0.55902544 -0.55515902\n",
      " -0.55133569 -0.54755452 -0.5438146  -0.54011507]\n"
     ]
    }
   ],
   "source": [
    "## Brock-Miran Economy\n",
    "## Testing value function iteration vs analytical solution\n",
    "# theta represents coefficients beta, A, alpha, delta\n",
    "theta_b = np.array([0.6,1,0.3,1])\n",
    "results_b = iteration(.00001,theta_b,500,100)\n",
    "print(results_b[0])\n"
   ]
  },
  {
   "cell_type": "code",
   "execution_count": 52,
   "metadata": {},
   "outputs": [
    {
     "name": "stdout",
     "output_type": "stream",
     "text": [
      "[-3.12199363 -2.18048385 -1.94111846 -1.79764488 -1.69485349 -1.61469846\n",
      " -1.54898738 -1.49330095 -1.44498153 -1.40230569 -1.3640919  -1.3294948\n",
      " -1.29788858 -1.26879703 -1.24184933 -1.21675107 -1.19326461 -1.17119538\n",
      " -1.15038202 -1.13068926 -1.11200258 -1.09422416 -1.07726977 -1.06106642\n",
      " -1.04555036 -1.03066566 -1.01636294 -1.0025984  -0.98933301 -0.97653181\n",
      " -0.96416343 -0.95219955 -0.94061454 -0.92938515 -0.91849019 -0.90791032\n",
      " -0.89762782 -0.88762643 -0.8778912  -0.86840831 -0.85916502 -0.85014952\n",
      " -0.84135085 -0.83275883 -0.82436396 -0.81615741 -0.80813092 -0.80027674\n",
      " -0.79258764 -0.78505682 -0.7776779  -0.77044486 -0.76335205 -0.75639415\n",
      " -0.7495661  -0.74286316 -0.73628081 -0.72981481 -0.7234611  -0.71721585\n",
      " -0.71107543 -0.70503637 -0.69909537 -0.69324931 -0.6874952  -0.68183019\n",
      " -0.67625156 -0.67075672 -0.66534319 -0.6600086  -0.65475067 -0.64956724\n",
      " -0.64445623 -0.63941563 -0.63444354 -0.62953811 -0.62469759 -0.61992028\n",
      " -0.61520455 -0.61054883 -0.60595161 -0.60141144 -0.59692692 -0.59249671\n",
      " -0.58811951 -0.58379406 -0.57951915 -0.57529361 -0.57111632 -0.56698619\n",
      " -0.56290217 -0.55886323 -0.55486839 -0.55091671 -0.54700725 -0.54313913\n",
      " -0.53931147 -0.53552345 -0.53177425 -0.52806308]\n"
     ]
    }
   ],
   "source": [
    "# Analytical solution (Brock-Mirman model): V(K)=A+BlnK\n",
    "# A = 1/(1-b)[ln(1-ab)+(ab)/(1-ab)*lnab] B = a/(1-ab)\n",
    "\n",
    "# theta represents coefficients beta, A, alpha, delta\n",
    "theta_b = np.array([0.6,1,0.3,1])\n",
    "\n",
    "A = 1/(1-theta_b[0])*(np.log(1-theta_b[2]*theta_b[0])+(theta_b[2]*theta_b[0])/(1-theta_b[2]*theta_b[0])*np.log(theta_b[2]*theta_b[0]))\n",
    "B = theta_b[2]/(1-theta_b[2]*theta_b[0])\n",
    "\n",
    "brock_mir = np.zeros(100)\n",
    "cap_b = np.linspace(0.01,12,100)\n",
    "for j in range(100):\n",
    "    brock_mir[j] = A+B*np.log(cap_b[j])\n",
    "\n",
    "print(brock_mir)"
   ]
  },
  {
   "cell_type": "code",
   "execution_count": 53,
   "metadata": {},
   "outputs": [
    {
     "data": {
      "text/plain": [
       "[<matplotlib.lines.Line2D at 0x2c827ef9a90>,\n",
       " <matplotlib.lines.Line2D at 0x2c827ef9c18>]"
      ]
     },
     "execution_count": 53,
     "metadata": {},
     "output_type": "execute_result"
    },
    {
     "data": {
      "image/png": "[encoded data removed]",
      "text/plain": [
       "<Figure size 432x288 with 1 Axes>"
      ]
     },
     "metadata": {},
     "output_type": "display_data"
    }
   ],
   "source": [
    "plt.plot(cap_b,results_b[0],'r--',cap_b,brock_mir,'g^')"
   ]
  },
  {
   "cell_type": "code",
   "execution_count": null,
   "metadata": {},
   "outputs": [],
   "source": []
  }
 ],
 "metadata": {
  "kernelspec": {
   "display_name": "Python 3",
   "language": "python",
   "name": "python3"
  },
  "language_info": {
   "codemirror_mode": {
    "name": "ipython",
    "version": 3
   },
   "file_extension": ".py",
   "mimetype": "text/x-python",
   "name": "python",
   "nbconvert_exporter": "python",
   "pygments_lexer": "ipython3",
   "version": "3.6.2"
  }
 },
 "nbformat": 4,
 "nbformat_minor": 2
}
